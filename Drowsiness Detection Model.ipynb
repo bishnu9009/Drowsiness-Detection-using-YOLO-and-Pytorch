{
 "cells": [
  {
   "cell_type": "markdown",
   "id": "28acab86",
   "metadata": {
    "scrolled": false
   },
   "source": [
    "!pip install --pre torch torchvision torchaudio --index-url https://download.pytorch.org/whl/nightly/cu121"
   ]
  },
  {
   "cell_type": "code",
   "execution_count": 1,
   "id": "bc88301e",
   "metadata": {},
   "outputs": [
    {
     "data": {
      "text/plain": [
       "True"
      ]
     },
     "execution_count": 1,
     "metadata": {},
     "output_type": "execute_result"
    }
   ],
   "source": [
    "import torch\n",
    "torch.cuda.is_available()"
   ]
  },
  {
   "cell_type": "markdown",
   "id": "42c1a84a",
   "metadata": {},
   "source": [
    "pip install --upgrade torch torchvision"
   ]
  },
  {
   "cell_type": "code",
   "execution_count": 2,
   "id": "e72435aa",
   "metadata": {},
   "outputs": [
    {
     "name": "stdout",
     "output_type": "stream",
     "text": [
      "2.13.0\n"
     ]
    }
   ],
   "source": [
    "import tensorflow as tf\n",
    "print(tf.__version__)"
   ]
  },
  {
   "cell_type": "markdown",
   "id": "a36b1989",
   "metadata": {
    "scrolled": true
   },
   "source": [
    "!git clone https://github.com/ultralytics/yolov5"
   ]
  },
  {
   "cell_type": "code",
   "execution_count": 3,
   "id": "2a56ad60",
   "metadata": {
    "scrolled": true
   },
   "outputs": [
    {
     "name": "stdout",
     "output_type": "stream",
     "text": [
      "C:\\Users\\Bishnu\\yolov5\n"
     ]
    }
   ],
   "source": [
    "cd yolov5"
   ]
  },
  {
   "cell_type": "code",
   "execution_count": 4,
   "id": "50957a6d",
   "metadata": {
    "scrolled": false
   },
   "outputs": [
    {
     "name": "stdout",
     "output_type": "stream",
     "text": [
      " Volume in drive C is OS\n",
      " Volume Serial Number is EC16-5F68\n",
      "\n",
      " Directory of C:\\Users\\Bishnu\\yolov5\n",
      "\n",
      "05-Aug-23  08:21 AM    <DIR>          .\n",
      "05-Aug-23  12:57 PM    <DIR>          ..\n",
      "04-Aug-23  07:36 PM             3,923 .dockerignore\n",
      "04-Aug-23  07:36 PM                77 .gitattributes\n",
      "04-Aug-23  07:36 PM    <DIR>          .github\n",
      "04-Aug-23  07:36 PM             4,255 .gitignore\n",
      "04-Aug-23  07:36 PM             1,887 .pre-commit-config.yaml\n",
      "04-Aug-23  07:36 PM             8,183 benchmarks.py\n",
      "04-Aug-23  07:36 PM               407 CITATION.cff\n",
      "04-Aug-23  07:36 PM    <DIR>          classify\n",
      "04-Aug-23  07:36 PM             5,102 CONTRIBUTING.md\n",
      "04-Aug-23  07:36 PM    <DIR>          data\n",
      "04-Aug-23  07:36 PM            14,598 detect.py\n",
      "04-Aug-23  07:36 PM            42,133 export.py\n",
      "04-Aug-23  07:36 PM             7,938 hubconf.py\n",
      "04-Aug-23  07:36 PM            35,184 LICENSE\n",
      "04-Aug-23  07:36 PM    <DIR>          models\n",
      "04-Aug-23  07:36 PM            42,240 README.md\n",
      "04-Aug-23  07:36 PM            41,242 README.zh-CN.md\n",
      "04-Aug-23  07:36 PM             1,611 requirements.txt\n",
      "04-Aug-23  07:36 PM    <DIR>          segment\n",
      "04-Aug-23  07:36 PM             1,779 setup.cfg\n",
      "04-Aug-23  07:36 PM            34,529 train.py\n",
      "04-Aug-23  07:36 PM            41,524 tutorial.ipynb\n",
      "04-Aug-23  07:36 PM    <DIR>          utils\n",
      "04-Aug-23  07:36 PM            20,997 val.py\n",
      "05-Aug-23  08:21 AM        14,808,437 yolov5s.pt\n",
      "              19 File(s)     15,116,046 bytes\n",
      "               8 Dir(s)  83,963,600,896 bytes free\n"
     ]
    }
   ],
   "source": [
    "ls"
   ]
  },
  {
   "cell_type": "code",
   "execution_count": 5,
   "id": "1428c335",
   "metadata": {},
   "outputs": [
    {
     "name": "stdout",
     "output_type": "stream",
     "text": [
      "Requirement already satisfied: gitpython>=3.1.30 in d:\\anacondajupyter\\lib\\site-packages (from -r requirements.txt (line 5)) (3.1.32)\n",
      "Requirement already satisfied: matplotlib>=3.3 in d:\\anacondajupyter\\lib\\site-packages (from -r requirements.txt (line 6)) (3.7.0)\n",
      "Requirement already satisfied: numpy>=1.22.2 in d:\\anacondajupyter\\lib\\site-packages (from -r requirements.txt (line 7)) (1.24.3)\n",
      "Requirement already satisfied: opencv-python>=4.1.1 in d:\\anacondajupyter\\lib\\site-packages (from -r requirements.txt (line 8)) (4.8.0.74)\n",
      "Requirement already satisfied: Pillow>=7.1.2 in d:\\anacondajupyter\\lib\\site-packages (from -r requirements.txt (line 9)) (9.4.0)\n",
      "Requirement already satisfied: psutil in d:\\anacondajupyter\\lib\\site-packages (from -r requirements.txt (line 10)) (5.9.0)\n",
      "Requirement already satisfied: PyYAML>=5.3.1 in d:\\anacondajupyter\\lib\\site-packages (from -r requirements.txt (line 11)) (6.0)\n",
      "Requirement already satisfied: requests>=2.23.0 in d:\\anacondajupyter\\lib\\site-packages (from -r requirements.txt (line 12)) (2.28.1)\n",
      "Requirement already satisfied: scipy>=1.4.1 in d:\\anacondajupyter\\lib\\site-packages (from -r requirements.txt (line 13)) (1.10.1)\n",
      "Requirement already satisfied: thop>=0.1.1 in d:\\anacondajupyter\\lib\\site-packages (from -r requirements.txt (line 14)) (0.1.1.post2209072238)\n",
      "Requirement already satisfied: torch>=1.7.0 in d:\\anacondajupyter\\lib\\site-packages (from -r requirements.txt (line 15)) (2.1.0.dev20230803+cu121)\n",
      "Requirement already satisfied: torchvision>=0.8.1 in d:\\anacondajupyter\\lib\\site-packages (from -r requirements.txt (line 16)) (0.16.0.dev20230804+cu121)\n",
      "Requirement already satisfied: tqdm>=4.64.0 in d:\\anacondajupyter\\lib\\site-packages (from -r requirements.txt (line 17)) (4.64.1)\n",
      "Requirement already satisfied: ultralytics>=8.0.147 in d:\\anacondajupyter\\lib\\site-packages (from -r requirements.txt (line 18)) (8.0.147)\n",
      "Requirement already satisfied: pandas>=1.1.4 in d:\\anacondajupyter\\lib\\site-packages (from -r requirements.txt (line 27)) (1.5.3)\n",
      "Requirement already satisfied: seaborn>=0.11.0 in d:\\anacondajupyter\\lib\\site-packages (from -r requirements.txt (line 28)) (0.12.2)\n",
      "Requirement already satisfied: setuptools>=65.5.1 in d:\\anacondajupyter\\lib\\site-packages (from -r requirements.txt (line 42)) (65.6.3)\n",
      "Requirement already satisfied: gitdb<5,>=4.0.1 in d:\\anacondajupyter\\lib\\site-packages (from gitpython>=3.1.30->-r requirements.txt (line 5)) (4.0.10)\n",
      "Requirement already satisfied: kiwisolver>=1.0.1 in d:\\anacondajupyter\\lib\\site-packages (from matplotlib>=3.3->-r requirements.txt (line 6)) (1.4.4)\n",
      "Requirement already satisfied: contourpy>=1.0.1 in d:\\anacondajupyter\\lib\\site-packages (from matplotlib>=3.3->-r requirements.txt (line 6)) (1.0.5)\n",
      "Requirement already satisfied: cycler>=0.10 in d:\\anacondajupyter\\lib\\site-packages (from matplotlib>=3.3->-r requirements.txt (line 6)) (0.11.0)\n",
      "Requirement already satisfied: packaging>=20.0 in d:\\anacondajupyter\\lib\\site-packages (from matplotlib>=3.3->-r requirements.txt (line 6)) (22.0)\n",
      "Requirement already satisfied: python-dateutil>=2.7 in d:\\anacondajupyter\\lib\\site-packages (from matplotlib>=3.3->-r requirements.txt (line 6)) (2.8.2)\n",
      "Requirement already satisfied: pyparsing>=2.3.1 in d:\\anacondajupyter\\lib\\site-packages (from matplotlib>=3.3->-r requirements.txt (line 6)) (3.0.9)\n",
      "Requirement already satisfied: fonttools>=4.22.0 in d:\\anacondajupyter\\lib\\site-packages (from matplotlib>=3.3->-r requirements.txt (line 6)) (4.25.0)\n",
      "Requirement already satisfied: urllib3<1.27,>=1.21.1 in d:\\anacondajupyter\\lib\\site-packages (from requests>=2.23.0->-r requirements.txt (line 12)) (1.26.14)\n",
      "Requirement already satisfied: certifi>=2017.4.17 in d:\\anacondajupyter\\lib\\site-packages (from requests>=2.23.0->-r requirements.txt (line 12)) (2023.7.22)\n",
      "Requirement already satisfied: idna<4,>=2.5 in d:\\anacondajupyter\\lib\\site-packages (from requests>=2.23.0->-r requirements.txt (line 12)) (3.4)\n",
      "Requirement already satisfied: charset-normalizer<3,>=2 in d:\\anacondajupyter\\lib\\site-packages (from requests>=2.23.0->-r requirements.txt (line 12)) (2.0.4)\n",
      "Requirement already satisfied: jinja2 in d:\\anacondajupyter\\lib\\site-packages (from torch>=1.7.0->-r requirements.txt (line 15)) (3.1.2)\n",
      "Requirement already satisfied: networkx in d:\\anacondajupyter\\lib\\site-packages (from torch>=1.7.0->-r requirements.txt (line 15)) (2.8.4)\n",
      "Requirement already satisfied: filelock in d:\\anacondajupyter\\lib\\site-packages (from torch>=1.7.0->-r requirements.txt (line 15)) (3.9.0)\n",
      "Requirement already satisfied: typing-extensions in d:\\anacondajupyter\\lib\\site-packages (from torch>=1.7.0->-r requirements.txt (line 15)) (4.4.0)\n",
      "Requirement already satisfied: sympy in d:\\anacondajupyter\\lib\\site-packages (from torch>=1.7.0->-r requirements.txt (line 15)) (1.11.1)\n",
      "Requirement already satisfied: fsspec in d:\\anacondajupyter\\lib\\site-packages (from torch>=1.7.0->-r requirements.txt (line 15)) (2022.11.0)\n",
      "Requirement already satisfied: colorama in d:\\anacondajupyter\\lib\\site-packages (from tqdm>=4.64.0->-r requirements.txt (line 17)) (0.4.6)\n",
      "Requirement already satisfied: py-cpuinfo in d:\\anacondajupyter\\lib\\site-packages (from ultralytics>=8.0.147->-r requirements.txt (line 18)) (9.0.0)\n",
      "Requirement already satisfied: pytz>=2020.1 in d:\\anacondajupyter\\lib\\site-packages (from pandas>=1.1.4->-r requirements.txt (line 27)) (2022.7)\n",
      "Requirement already satisfied: smmap<6,>=3.0.1 in d:\\anacondajupyter\\lib\\site-packages (from gitdb<5,>=4.0.1->gitpython>=3.1.30->-r requirements.txt (line 5)) (5.0.0)\n",
      "Requirement already satisfied: six>=1.5 in d:\\anacondajupyter\\lib\\site-packages (from python-dateutil>=2.7->matplotlib>=3.3->-r requirements.txt (line 6)) (1.16.0)\n",
      "Requirement already satisfied: MarkupSafe>=2.0 in d:\\anacondajupyter\\lib\\site-packages (from jinja2->torch>=1.7.0->-r requirements.txt (line 15)) (2.1.1)\n",
      "Requirement already satisfied: mpmath>=0.19 in d:\\anacondajupyter\\lib\\site-packages (from sympy->torch>=1.7.0->-r requirements.txt (line 15)) (1.2.1)\n",
      "Note: you may need to restart the kernel to use updated packages.\n"
     ]
    }
   ],
   "source": [
    "pip install -r requirements.txt"
   ]
  },
  {
   "cell_type": "code",
   "execution_count": 6,
   "id": "0d47b5fe",
   "metadata": {
    "scrolled": false
   },
   "outputs": [],
   "source": [
    "import matplotlib as plt\n",
    "import numpy as np\n",
    "import os\n",
    "import cv2\n",
    "import time"
   ]
  },
  {
   "cell_type": "code",
   "execution_count": 7,
   "id": "2c42483d",
   "metadata": {
    "scrolled": true
   },
   "outputs": [
    {
     "name": "stderr",
     "output_type": "stream",
     "text": [
      "Using cache found in C:\\Users\\Bishnu/.cache\\torch\\hub\\ultralytics_yolov5_master\n",
      "YOLOv5  2023-8-4 Python-3.10.9 torch-2.1.0.dev20230803+cu121 CUDA:0 (NVIDIA GeForce GTX 1650, 4096MiB)\n",
      "\n",
      "Downloading https://github.com/ultralytics/yolov5/releases/download/v7.0/yolov5l.pt to yolov5l.pt...\n",
      "100%|█████████████████████████████████████████████████████████████████████████████| 89.3M/89.3M [00:43<00:00, 2.16MB/s]\n",
      "\n",
      "Fusing layers... \n",
      "YOLOv5l summary: 367 layers, 46533693 parameters, 0 gradients, 109.0 GFLOPs\n",
      "Adding AutoShape... \n"
     ]
    }
   ],
   "source": [
    "model = torch.hub.load('ultralytics/yolov5', 'yolov5l')"
   ]
  },
  {
   "cell_type": "code",
   "execution_count": null,
   "id": "b267a06b",
   "metadata": {},
   "outputs": [],
   "source": [
    "# display(model)"
   ]
  },
  {
   "cell_type": "code",
   "execution_count": null,
   "id": "cee4504e",
   "metadata": {},
   "outputs": [],
   "source": [
    "cap = cv2.VideoCapture(0)\n",
    "\n",
    "p_time = 0\n",
    "n_time = 0\n",
    "\n",
    "while cap.isOpened():\n",
    "    ret,frame = cap.read()\n",
    "    \n",
    "    results = model(frame)\n",
    "    cv2.imshow('WEBCAM FEED',np.squeeze(results.render()))\n",
    "    \n",
    "    if cv2.waitKey(10) & 0xFF == ord('q'):\n",
    "        break\n",
    "cap.release()\n",
    "cv2.destroyAllWindows()"
   ]
  },
  {
   "cell_type": "code",
   "execution_count": 12,
   "id": "a8cfcfbe",
   "metadata": {},
   "outputs": [],
   "source": [
    "import numpy as np\n",
    "import cv2\n",
    "import time\n",
    "  \n",
    "cap = cv2.VideoCapture(0)\n",
    "\n",
    "prev_frame_time = 0\n",
    "new_frame_time = 0\n",
    "\n",
    "while(cap.isOpened()):\n",
    "    ret, frame = cap.read()\n",
    "  \n",
    "    # if video finished or no Video Input\n",
    "    if not ret:\n",
    "        break\n",
    "  \n",
    "#     # Our operations on the frame come here\n",
    "#     gray = frame\n",
    "  \n",
    "#     # resizing the frame size according to our need\n",
    "#     gray = cv2.resize(gray, (500, 300))\n",
    "  \n",
    "    font = cv2.FONT_HERSHEY_SIMPLEX\n",
    "    # time when we finish processing for this frame\n",
    "    new_frame_time = time.time()\n",
    "  \n",
    "    # Calculating the fps\n",
    "    fps = 1/(new_frame_time-prev_frame_time)\n",
    "    prev_frame_time = new_frame_time\n",
    "  \n",
    "    # converting the fps into integer\n",
    "    fps = int(fps)\n",
    "    fps = str(fps)\n",
    "  \n",
    "    # putting the FPS count on the frame\n",
    "    cv2.putText(frame, fps, (7, 70), font, 3, (100, 255, 0), 3, cv2.LINE_AA)\n",
    "  \n",
    "    results = model(frame)\n",
    "    cv2.imshow('WEBCAM FEED',np.squeeze(results.render()))\n",
    "#     #displaying the frame with fps\n",
    "#     cv2.imshow('frame', gray)\n",
    "  \n",
    "    # press 'Q' if you want to exit\n",
    "    if cv2.waitKey(1) & 0xFF == ord('q'):\n",
    "        break\n",
    "\n",
    "cap.release()\n",
    "# Destroy the all windows now\n",
    "cv2.destroyAllWindows()"
   ]
  },
  {
   "cell_type": "markdown",
   "id": "fc70990a",
   "metadata": {},
   "source": [
    "Training it...."
   ]
  },
  {
   "cell_type": "code",
   "execution_count": 16,
   "id": "ac274710",
   "metadata": {},
   "outputs": [],
   "source": [
    "## Import up sound alert dependencies\n",
    "from IPython.display import Audio, display\n",
    "\n",
    "def allDone():\n",
    "  display(Audio(url='https://sound.peal.io/ps/audios/000/000/537/original/woo_vu_luvub_dub_dub.wav', autoplay=True))\n",
    "## Insert whatever audio file you want above"
   ]
  },
  {
   "cell_type": "code",
   "execution_count": 18,
   "id": "edad5d10",
   "metadata": {
    "scrolled": true
   },
   "outputs": [
    {
     "name": "stdout",
     "output_type": "stream",
     "text": [
      "helloworld!\n"
     ]
    },
    {
     "data": {
      "text/html": [
       "\n",
       "                <audio  controls=\"controls\" autoplay=\"autoplay\">\n",
       "                    <source src=\"https://sound.peal.io/ps/audios/000/000/537/original/woo_vu_luvub_dub_dub.wav\" type=\"audio/wav\" />\n",
       "                    Your browser does not support the audio element.\n",
       "                </audio>\n",
       "              "
      ],
      "text/plain": [
       "<IPython.lib.display.Audio object>"
      ]
     },
     "metadata": {},
     "output_type": "display_data"
    }
   ],
   "source": [
    "print(\"helloworld!\")\n",
    "allDone()"
   ]
  },
  {
   "cell_type": "code",
   "execution_count": 19,
   "id": "6ac56c12",
   "metadata": {},
   "outputs": [
    {
     "name": "stdout",
     "output_type": "stream",
     "text": [
      "helloworld\n"
     ]
    },
    {
     "data": {
      "text/html": [
       "\n",
       "                <audio  controls=\"controls\" autoplay=\"autoplay\">\n",
       "                    <source src=\"https://sound.peal.io/ps/audios/000/000/537/original/woo_vu_luvub_dub_dub.wav\" type=\"audio/wav\" />\n",
       "                    Your browser does not support the audio element.\n",
       "                </audio>\n",
       "              "
      ],
      "text/plain": [
       "<IPython.lib.display.Audio object>"
      ]
     },
     "metadata": {},
     "output_type": "display_data"
    }
   ],
   "source": [
    "print('helloworld')\n",
    "allDone()"
   ]
  },
  {
   "cell_type": "code",
   "execution_count": 10,
   "id": "f71c4f7e",
   "metadata": {},
   "outputs": [],
   "source": [
    "import uuid\n"
   ]
  }
 ],
 "metadata": {
  "kernelspec": {
   "display_name": "Python 3 (ipykernel)",
   "language": "python",
   "name": "python3"
  },
  "language_info": {
   "codemirror_mode": {
    "name": "ipython",
    "version": 3
   },
   "file_extension": ".py",
   "mimetype": "text/x-python",
   "name": "python",
   "nbconvert_exporter": "python",
   "pygments_lexer": "ipython3",
   "version": "3.10.9"
  }
 },
 "nbformat": 4,
 "nbformat_minor": 5
}
