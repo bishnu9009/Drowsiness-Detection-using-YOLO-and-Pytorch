{
 "cells": [
  {
   "cell_type": "markdown",
   "id": "03219040",
   "metadata": {},
   "source": [
    "## Import up sound alert dependencies\n",
    "from IPython.display import Audio, display\n",
    "\n",
    "def allDone():\n",
    "  display(Audio(filename = 'success.mp3', autoplay=True))\n",
    "\n",
    "def notDone():\n",
    "  display(Audio(filename = 'unsuccess.mp3', autoplay=True))"
   ]
  },
  {
   "cell_type": "markdown",
   "id": "28acab86",
   "metadata": {
    "scrolled": false
   },
   "source": [
    "!pip install --pre torch torchvision torchaudio --index-url https://download.pytorch.org/whl/nightly/cu121"
   ]
  },
  {
   "cell_type": "markdown",
   "id": "1cd799bf",
   "metadata": {},
   "source": [
    "import torch\n",
    "torch.cuda.is_available()"
   ]
  },
  {
   "cell_type": "markdown",
   "id": "42c1a84a",
   "metadata": {},
   "source": [
    "pip install --upgrade torch torchvision"
   ]
  },
  {
   "cell_type": "markdown",
   "id": "f940faff",
   "metadata": {},
   "source": [
    "import tensorflow as tf\n",
    "print(tf.__version__)"
   ]
  },
  {
   "cell_type": "markdown",
   "id": "a36b1989",
   "metadata": {
    "scrolled": true
   },
   "source": [
    "!git clone https://github.com/ultralytics/yolov5"
   ]
  },
  {
   "cell_type": "code",
   "execution_count": 1,
   "id": "b1ed7b38",
   "metadata": {},
   "outputs": [
    {
     "name": "stdout",
     "output_type": "stream",
     "text": [
      "C:\\Users\\Bishnu\\yolov5\n"
     ]
    }
   ],
   "source": [
    "cd yolov5"
   ]
  },
  {
   "cell_type": "markdown",
   "id": "72df605c",
   "metadata": {
    "scrolled": false
   },
   "source": [
    "ls"
   ]
  },
  {
   "cell_type": "code",
   "execution_count": 2,
   "id": "1428c335",
   "metadata": {
    "scrolled": true
   },
   "outputs": [
    {
     "name": "stdout",
     "output_type": "stream",
     "text": [
      "Requirement already satisfied: gitpython>=3.1.30 in d:\\anacondajupyter\\lib\\site-packages (from -r requirements.txt (line 5)) (3.1.32)\n",
      "Requirement already satisfied: matplotlib>=3.3 in d:\\anacondajupyter\\lib\\site-packages (from -r requirements.txt (line 6)) (3.7.0)\n",
      "Requirement already satisfied: numpy>=1.22.2 in d:\\anacondajupyter\\lib\\site-packages (from -r requirements.txt (line 7)) (1.24.3)\n",
      "Requirement already satisfied: opencv-python>=4.1.1 in d:\\anacondajupyter\\lib\\site-packages (from -r requirements.txt (line 8)) (4.8.0.74)\n",
      "Requirement already satisfied: Pillow>=7.1.2 in d:\\anacondajupyter\\lib\\site-packages (from -r requirements.txt (line 9)) (9.4.0)\n",
      "Requirement already satisfied: psutil in d:\\anacondajupyter\\lib\\site-packages (from -r requirements.txt (line 10)) (5.9.0)\n",
      "Requirement already satisfied: PyYAML>=5.3.1 in d:\\anacondajupyter\\lib\\site-packages (from -r requirements.txt (line 11)) (6.0)\n",
      "Requirement already satisfied: requests>=2.23.0 in d:\\anacondajupyter\\lib\\site-packages (from -r requirements.txt (line 12)) (2.28.1)\n",
      "Requirement already satisfied: scipy>=1.4.1 in d:\\anacondajupyter\\lib\\site-packages (from -r requirements.txt (line 13)) (1.10.1)\n",
      "Requirement already satisfied: thop>=0.1.1 in d:\\anacondajupyter\\lib\\site-packages (from -r requirements.txt (line 14)) (0.1.1.post2209072238)\n",
      "Requirement already satisfied: torch>=1.7.0 in d:\\anacondajupyter\\lib\\site-packages (from -r requirements.txt (line 15)) (2.1.0.dev20230803+cu121)\n",
      "Requirement already satisfied: torchvision>=0.8.1 in d:\\anacondajupyter\\lib\\site-packages (from -r requirements.txt (line 16)) (0.16.0.dev20230804+cu121)\n",
      "Requirement already satisfied: tqdm>=4.64.0 in d:\\anacondajupyter\\lib\\site-packages (from -r requirements.txt (line 17)) (4.64.1)\n",
      "Requirement already satisfied: ultralytics>=8.0.147 in d:\\anacondajupyter\\lib\\site-packages (from -r requirements.txt (line 18)) (8.0.147)\n",
      "Requirement already satisfied: pandas>=1.1.4 in d:\\anacondajupyter\\lib\\site-packages (from -r requirements.txt (line 27)) (1.5.3)\n",
      "Requirement already satisfied: seaborn>=0.11.0 in d:\\anacondajupyter\\lib\\site-packages (from -r requirements.txt (line 28)) (0.12.2)\n",
      "Requirement already satisfied: setuptools>=65.5.1 in d:\\anacondajupyter\\lib\\site-packages (from -r requirements.txt (line 42)) (65.6.3)\n",
      "Requirement already satisfied: gitdb<5,>=4.0.1 in d:\\anacondajupyter\\lib\\site-packages (from gitpython>=3.1.30->-r requirements.txt (line 5)) (4.0.10)\n",
      "Requirement already satisfied: cycler>=0.10 in d:\\anacondajupyter\\lib\\site-packages (from matplotlib>=3.3->-r requirements.txt (line 6)) (0.11.0)\n",
      "Requirement already satisfied: contourpy>=1.0.1 in d:\\anacondajupyter\\lib\\site-packages (from matplotlib>=3.3->-r requirements.txt (line 6)) (1.0.5)\n",
      "Requirement already satisfied: pyparsing>=2.3.1 in d:\\anacondajupyter\\lib\\site-packages (from matplotlib>=3.3->-r requirements.txt (line 6)) (3.0.9)\n",
      "Requirement already satisfied: kiwisolver>=1.0.1 in d:\\anacondajupyter\\lib\\site-packages (from matplotlib>=3.3->-r requirements.txt (line 6)) (1.4.4)\n",
      "Requirement already satisfied: fonttools>=4.22.0 in d:\\anacondajupyter\\lib\\site-packages (from matplotlib>=3.3->-r requirements.txt (line 6)) (4.25.0)\n",
      "Requirement already satisfied: packaging>=20.0 in d:\\anacondajupyter\\lib\\site-packages (from matplotlib>=3.3->-r requirements.txt (line 6)) (22.0)\n",
      "Requirement already satisfied: python-dateutil>=2.7 in d:\\anacondajupyter\\lib\\site-packages (from matplotlib>=3.3->-r requirements.txt (line 6)) (2.8.2)\n",
      "Requirement already satisfied: idna<4,>=2.5 in d:\\anacondajupyter\\lib\\site-packages (from requests>=2.23.0->-r requirements.txt (line 12)) (3.4)\n",
      "Requirement already satisfied: certifi>=2017.4.17 in d:\\anacondajupyter\\lib\\site-packages (from requests>=2.23.0->-r requirements.txt (line 12)) (2023.7.22)\n",
      "Requirement already satisfied: urllib3<1.27,>=1.21.1 in d:\\anacondajupyter\\lib\\site-packages (from requests>=2.23.0->-r requirements.txt (line 12)) (1.26.14)\n",
      "Requirement already satisfied: charset-normalizer<3,>=2 in d:\\anacondajupyter\\lib\\site-packages (from requests>=2.23.0->-r requirements.txt (line 12)) (2.0.4)\n",
      "Requirement already satisfied: networkx in d:\\anacondajupyter\\lib\\site-packages (from torch>=1.7.0->-r requirements.txt (line 15)) (2.8.4)\n",
      "Requirement already satisfied: jinja2 in d:\\anacondajupyter\\lib\\site-packages (from torch>=1.7.0->-r requirements.txt (line 15)) (3.1.2)\n",
      "Requirement already satisfied: filelock in d:\\anacondajupyter\\lib\\site-packages (from torch>=1.7.0->-r requirements.txt (line 15)) (3.9.0)\n",
      "Requirement already satisfied: typing-extensions in d:\\anacondajupyter\\lib\\site-packages (from torch>=1.7.0->-r requirements.txt (line 15)) (4.4.0)\n",
      "Requirement already satisfied: fsspec in d:\\anacondajupyter\\lib\\site-packages (from torch>=1.7.0->-r requirements.txt (line 15)) (2022.11.0)\n",
      "Requirement already satisfied: sympy in d:\\anacondajupyter\\lib\\site-packages (from torch>=1.7.0->-r requirements.txt (line 15)) (1.11.1)\n",
      "Requirement already satisfied: colorama in d:\\anacondajupyter\\lib\\site-packages (from tqdm>=4.64.0->-r requirements.txt (line 17)) (0.4.6)\n",
      "Requirement already satisfied: py-cpuinfo in d:\\anacondajupyter\\lib\\site-packages (from ultralytics>=8.0.147->-r requirements.txt (line 18)) (9.0.0)\n",
      "Requirement already satisfied: pytz>=2020.1 in d:\\anacondajupyter\\lib\\site-packages (from pandas>=1.1.4->-r requirements.txt (line 27)) (2022.7)\n",
      "Requirement already satisfied: smmap<6,>=3.0.1 in d:\\anacondajupyter\\lib\\site-packages (from gitdb<5,>=4.0.1->gitpython>=3.1.30->-r requirements.txt (line 5)) (5.0.0)\n",
      "Requirement already satisfied: six>=1.5 in d:\\anacondajupyter\\lib\\site-packages (from python-dateutil>=2.7->matplotlib>=3.3->-r requirements.txt (line 6)) (1.16.0)\n",
      "Requirement already satisfied: MarkupSafe>=2.0 in d:\\anacondajupyter\\lib\\site-packages (from jinja2->torch>=1.7.0->-r requirements.txt (line 15)) (2.1.1)\n",
      "Requirement already satisfied: mpmath>=0.19 in d:\\anacondajupyter\\lib\\site-packages (from sympy->torch>=1.7.0->-r requirements.txt (line 15)) (1.2.1)\n",
      "Note: you may need to restart the kernel to use updated packages.\n"
     ]
    }
   ],
   "source": [
    "pip install -r requirements.txt"
   ]
  },
  {
   "cell_type": "code",
   "execution_count": 3,
   "id": "0d47b5fe",
   "metadata": {
    "scrolled": false
   },
   "outputs": [],
   "source": [
    "import matplotlib as plt\n",
    "import numpy as np\n",
    "import os\n",
    "import cv2\n",
    "import time\n",
    "import uuid\n",
    "import torch"
   ]
  },
  {
   "cell_type": "code",
   "execution_count": 4,
   "id": "2c42483d",
   "metadata": {
    "scrolled": false
   },
   "outputs": [
    {
     "name": "stderr",
     "output_type": "stream",
     "text": [
      "Using cache found in C:\\Users\\Bishnu/.cache\\torch\\hub\\ultralytics_yolov5_master\n",
      "YOLOv5  2023-8-4 Python-3.10.9 torch-2.1.0.dev20230803+cu121 CUDA:0 (NVIDIA GeForce GTX 1650, 4096MiB)\n",
      "\n",
      "Fusing layers... \n",
      "YOLOv5l summary: 367 layers, 46533693 parameters, 0 gradients, 109.0 GFLOPs\n",
      "Adding AutoShape... \n"
     ]
    }
   ],
   "source": [
    "model = torch.hub.load('ultralytics/yolov5', 'yolov5l')"
   ]
  },
  {
   "cell_type": "code",
   "execution_count": 5,
   "id": "b267a06b",
   "metadata": {},
   "outputs": [],
   "source": [
    "# display(model)"
   ]
  },
  {
   "cell_type": "markdown",
   "id": "452a8895",
   "metadata": {},
   "source": [
    "cap = cv2.VideoCapture(0)\n",
    "\n",
    "p_time = 0\n",
    "n_time = 0\n",
    "\n",
    "while cap.isOpened():\n",
    "    ret,frame = cap.read()\n",
    "    \n",
    "    results = model(frame)\n",
    "    cv2.imshow('WEBCAM FEED',np.squeeze(results.render()))\n",
    "    \n",
    "    if cv2.waitKey(10) & 0xFF == ord('q'):\n",
    "        break\n",
    "cap.release()\n",
    "cv2.destroyAllWindows()"
   ]
  },
  {
   "cell_type": "markdown",
   "id": "b5a6cbde",
   "metadata": {},
   "source": [
    "import numpy as np\n",
    "import cv2\n",
    "import time\n",
    "  \n",
    "cap = cv2.VideoCapture(0)\n",
    "\n",
    "prev_frame_time = 0\n",
    "new_frame_time = 0\n",
    "\n",
    "while(cap.isOpened()):\n",
    "    ret, frame = cap.read()\n",
    "  \n",
    "    # if video finished or no Video Input\n",
    "    if not ret:\n",
    "        break\n",
    "  \n",
    "#     # Our operations on the frame come here\n",
    "#     gray = frame\n",
    "  \n",
    "#     # resizing the frame size according to our need\n",
    "#     gray = cv2.resize(gray, (500, 300))\n",
    "  \n",
    "    font = cv2.FONT_HERSHEY_SIMPLEX\n",
    "    # time when we finish processing for this frame\n",
    "    new_frame_time = time.time()\n",
    "  \n",
    "    # Calculating the fps\n",
    "    fps = 1/(new_frame_time-prev_frame_time)\n",
    "    prev_frame_time = new_frame_time\n",
    "  \n",
    "    # converting the fps into integer\n",
    "    fps = int(fps)\n",
    "    fps = str(fps)\n",
    "  \n",
    "    # putting the FPS count on the frame\n",
    "    cv2.putText(frame, fps, (7, 70), font, 3, (100, 255, 0), 3, cv2.LINE_AA)\n",
    "  \n",
    "    results = model(frame)\n",
    "    cv2.imshow('WEBCAM FEED',np.squeeze(results.render()))\n",
    "#     #displaying the frame with fps\n",
    "#     cv2.imshow('frame', gray)\n",
    "  \n",
    "    # press 'Q' if you want to exit\n",
    "    if cv2.waitKey(1) & 0xFF == ord('q'):\n",
    "        break\n",
    "\n",
    "cap.release()\n",
    "# Destroy the all windows now\n",
    "cv2.destroyAllWindows()"
   ]
  },
  {
   "cell_type": "markdown",
   "id": "fc70990a",
   "metadata": {},
   "source": [
    "Training it...."
   ]
  },
  {
   "cell_type": "code",
   "execution_count": 6,
   "id": "e9439ca2",
   "metadata": {},
   "outputs": [
    {
     "name": "stdout",
     "output_type": "stream",
     "text": [
      "C:\\Users\\Bishnu\n"
     ]
    }
   ],
   "source": [
    "cd"
   ]
  },
  {
   "cell_type": "code",
   "execution_count": 7,
   "id": "f71c4f7e",
   "metadata": {},
   "outputs": [
    {
     "name": "stdout",
     "output_type": "stream",
     "text": [
      " Volume in drive C is OS\n",
      " Volume Serial Number is EC16-5F68\n",
      "\n",
      " Directory of C:\\Users\\Bishnu\n",
      "\n",
      "05-Aug-23  06:24 PM    <DIR>          .\n",
      "26-Jul-23  08:02 PM    <DIR>          ..\n",
      "27-Jun-23  07:32 PM    <DIR>          .android\n",
      "31-Jul-23  08:54 PM    <DIR>          .arduinoIDE\n",
      "26-Jun-23  08:48 PM                10 .bash_history\n",
      "05-Aug-23  08:20 AM    <DIR>          .cache\n",
      "17-Dec-22  09:19 AM    <DIR>          .cargo\n",
      "05-Aug-23  07:53 AM    <DIR>          .conda\n",
      "06-Jul-23  07:44 AM                25 .condarc\n",
      "09-Jul-23  08:28 PM    <DIR>          .config\n",
      "06-Jul-23  07:41 AM    <DIR>          .continuum\n",
      "25-Dec-22  08:58 PM                16 .emulator_console_auth_token\n",
      "26-Jun-23  08:49 PM               206 .gitconfig\n",
      "20-Apr-23  02:08 PM    <DIR>          .gradle\n",
      "04-Aug-23  06:50 PM    <DIR>          .ipynb_checkpoints\n",
      "04-Aug-23  11:01 PM    <DIR>          .ipython\n",
      "07-Jul-23  03:21 PM    <DIR>          .jupyter\n",
      "04-Aug-23  09:19 PM    <DIR>          .keras\n",
      "27-Sep-22  09:20 PM    <DIR>          .m2\n",
      "05-Jul-23  09:09 AM    <DIR>          .matplotlib\n",
      "26-Jul-23  04:34 PM                43 .node_repl_history\n",
      "22-Apr-23  08:06 PM    <DIR>          .rsp\n",
      "26-Jun-23  08:10 PM    <DIR>          .sao\n",
      "26-Jul-23  05:00 PM    <DIR>          .venv\n",
      "15-May-23  07:17 PM    <DIR>          .vscode-insiders\n",
      "11-Jul-21  12:43 AM    <DIR>          3D Objects\n",
      "03-Sep-22  11:38 AM    <DIR>          ansel\n",
      "23-Jan-23  11:49 PM            61,980 battery-report.html\n",
      "03-Feb-23  06:58 PM    <DIR>          Contacts\n",
      "04-Aug-23  09:20 PM    <DIR>          Desktop\n",
      "31-Jul-23  11:56 AM    <DIR>          Documents\n",
      "05-Aug-23  05:52 PM    <DIR>          Downloads\n",
      "05-Aug-23  06:24 PM            13,830 Drowsiness Detection Model.ipynb\n",
      "03-Feb-23  06:58 PM    <DIR>          Favorites\n",
      "03-Aug-23  11:06 AM             3,258 gender_submission.csv\n",
      "03-Aug-23  11:10 AM    <DIR>          Inern\n",
      "02-Jul-23  05:13 PM           541,142 install.log\n",
      "14-Jan-23  12:37 PM       745,499,542 java_error_in_studio64.hprof\n",
      "03-Feb-23  06:58 PM    <DIR>          Links\n",
      "09-Jun-23  07:04 PM    <DIR>          logs\n",
      "03-Feb-23  06:58 PM    <DIR>          Music\n",
      "06-Feb-23  07:45 AM    <DIR>          OneDrive\n",
      "04-Aug-23  01:07 PM    <DIR>          Pictures\n",
      "05-Aug-23  05:59 PM    <DIR>          samples\n",
      "03-Feb-23  06:58 PM    <DIR>          Saved Games\n",
      "13-Apr-23  07:53 PM    <DIR>          Searches\n",
      "05-Aug-23  01:32 PM            10,546 success.mp3\n",
      "03-Aug-23  11:07 AM            28,629 test.csv\n",
      "03-Aug-23  01:18 PM           482,909 Titanic.ipynb\n",
      "03-Aug-23  01:18 PM            61,194 train.csv\n",
      "05-Aug-23  01:33 PM            13,837 unsuccess.mp3\n",
      "04-Aug-23  09:50 PM                 0 vcvars64.bat\n",
      "05-Aug-23  03:49 PM    <DIR>          Videos\n",
      "05-Aug-23  01:00 PM    <DIR>          yolov5\n",
      "04-Aug-23  07:40 PM        14,808,437 yolov5s.pt\n",
      "              17 File(s)    761,525,604 bytes\n",
      "              38 Dir(s)  76,625,772,544 bytes free\n"
     ]
    }
   ],
   "source": [
    "ls"
   ]
  },
  {
   "cell_type": "code",
   "execution_count": 8,
   "id": "61cf6ca0",
   "metadata": {},
   "outputs": [],
   "source": [
    "images_path = os.path.join('samples','images')\n",
    "labels = ['awake','sleepy']\n",
    "number_of_samples = 20"
   ]
  },
  {
   "cell_type": "code",
   "execution_count": 11,
   "id": "fa7b0915",
   "metadata": {
    "scrolled": true
   },
   "outputs": [
    {
     "name": "stdout",
     "output_type": "stream",
     "text": [
      "Collecting Images for \"\"awake\"\"\n",
      "Image num:- 1\n",
      "samples\\images\\awake.14071092-3390-11ee-87da-9408533c9512.jpg\n",
      "Image num:- 2\n",
      "samples\\images\\awake.155a102d-3390-11ee-9a06-9408533c9512.jpg\n",
      "Image num:- 3\n",
      "samples\\images\\awake.1692a35c-3390-11ee-9871-9408533c9512.jpg\n",
      "Image num:- 4\n",
      "samples\\images\\awake.17c9a7a5-3390-11ee-a7e3-9408533c9512.jpg\n",
      "Image num:- 5\n",
      "samples\\images\\awake.1901a8c4-3390-11ee-97fd-9408533c9512.jpg\n",
      "Image num:- 6\n",
      "samples\\images\\awake.1a38b542-3390-11ee-ae1e-9408533c9512.jpg\n",
      "Image num:- 7\n",
      "samples\\images\\awake.1b70702e-3390-11ee-a301-9408533c9512.jpg\n",
      "Image num:- 8\n",
      "samples\\images\\awake.1ca8b6b7-3390-11ee-845c-9408533c9512.jpg\n",
      "Image num:- 9\n",
      "samples\\images\\awake.1de06dc8-3390-11ee-bf9d-9408533c9512.jpg\n",
      "Image num:- 10\n",
      "samples\\images\\awake.1f187761-3390-11ee-abc3-9408533c9512.jpg\n",
      "Image num:- 11\n",
      "samples\\images\\awake.20505c76-3390-11ee-af49-9408533c9512.jpg\n",
      "Image num:- 12\n",
      "samples\\images\\awake.21889cc4-3390-11ee-9812-9408533c9512.jpg\n",
      "Image num:- 13\n",
      "samples\\images\\awake.22c11091-3390-11ee-aec8-9408533c9512.jpg\n",
      "Image num:- 14\n",
      "samples\\images\\awake.23f7fdcd-3390-11ee-9704-9408533c9512.jpg\n",
      "Image num:- 15\n",
      "samples\\images\\awake.25309e74-3390-11ee-a239-9408533c9512.jpg\n",
      "Image num:- 16\n",
      "samples\\images\\awake.26676b5c-3390-11ee-9d20-9408533c9512.jpg\n",
      "Image num:- 17\n",
      "samples\\images\\awake.279e5eaa-3390-11ee-8045-9408533c9512.jpg\n",
      "Image num:- 18\n",
      "samples\\images\\awake.28d667d7-3390-11ee-b15f-9408533c9512.jpg\n",
      "Image num:- 19\n",
      "samples\\images\\awake.2a0ead7b-3390-11ee-97f1-9408533c9512.jpg\n",
      "Image num:- 20\n",
      "samples\\images\\awake.2b464a2b-3390-11ee-a910-9408533c9512.jpg\n",
      "Collecting Images for \"\"sleepy\"\"\n",
      "Image num:- 1\n",
      "samples\\images\\sleepy.2c7ea2f4-3390-11ee-a062-9408533c9512.jpg\n",
      "Image num:- 2\n",
      "samples\\images\\sleepy.2db5d3c6-3390-11ee-af77-9408533c9512.jpg\n",
      "Image num:- 3\n",
      "samples\\images\\sleepy.2eee10bf-3390-11ee-a865-9408533c9512.jpg\n",
      "Image num:- 4\n",
      "samples\\images\\sleepy.3025ac57-3390-11ee-af1a-9408533c9512.jpg\n",
      "Image num:- 5\n",
      "samples\\images\\sleepy.315b8f96-3390-11ee-81f1-9408533c9512.jpg\n",
      "Image num:- 6\n",
      "samples\\images\\sleepy.32933d3d-3390-11ee-93b1-9408533c9512.jpg\n",
      "Image num:- 7\n",
      "samples\\images\\sleepy.33c9b4fa-3390-11ee-8b61-9408533c9512.jpg\n",
      "Image num:- 8\n",
      "samples\\images\\sleepy.350146d1-3390-11ee-8537-9408533c9512.jpg\n",
      "Image num:- 9\n",
      "samples\\images\\sleepy.36399395-3390-11ee-93c4-9408533c9512.jpg\n",
      "Image num:- 10\n",
      "samples\\images\\sleepy.3770b9fc-3390-11ee-ac2c-9408533c9512.jpg\n",
      "Image num:- 11\n",
      "samples\\images\\sleepy.38a8d1f7-3390-11ee-a870-9408533c9512.jpg\n",
      "Image num:- 12\n",
      "samples\\images\\sleepy.39e101d8-3390-11ee-b181-9408533c9512.jpg\n",
      "Image num:- 13\n",
      "samples\\images\\sleepy.3b1838b6-3390-11ee-a22d-9408533c9512.jpg\n",
      "Image num:- 14\n",
      "samples\\images\\sleepy.3c4ff95f-3390-11ee-a94f-9408533c9512.jpg\n",
      "Image num:- 15\n",
      "samples\\images\\sleepy.3d8874ab-3390-11ee-898d-9408533c9512.jpg\n",
      "Image num:- 16\n",
      "samples\\images\\sleepy.3ec028dc-3390-11ee-b9fc-9408533c9512.jpg\n",
      "Image num:- 17\n",
      "samples\\images\\sleepy.3ff76bb3-3390-11ee-b578-9408533c9512.jpg\n",
      "Image num:- 18\n",
      "samples\\images\\sleepy.412f013d-3390-11ee-9117-9408533c9512.jpg\n",
      "Image num:- 19\n",
      "samples\\images\\sleepy.42678be3-3390-11ee-9ece-9408533c9512.jpg\n",
      "Image num:- 20\n",
      "samples\\images\\sleepy.439fb9ae-3390-11ee-8afb-9408533c9512.jpg\n"
     ]
    }
   ],
   "source": [
    "cap = cv2.VideoCapture(0)\n",
    "\n",
    "for label in labels:\n",
    "    print(f'Collecting Images for \"\"{label}\"\"')\n",
    "    for imagenum in range(number_of_samples):\n",
    "        print(f'Image num:- {imagenum+1}')\n",
    "        \n",
    "        ret, frame = cap.read()\n",
    "        \n",
    "        img_name = os.path.join(images_path,label+'.'+str(uuid.uuid1())+'.jpg')\n",
    "        \n",
    "        print(img_name)\n",
    "        cv2.imwrite(img_name,frame)\n",
    "        cv2.imshow('Collecting!....',frame)\n",
    "        time.sleep(2)\n",
    "        \n",
    "        if cv2.waitKey(10) & 0xFF == ord('q'):\n",
    "            break\n",
    "cap.release()\n",
    "cv2.destroyAllWindows()\n",
    "        "
   ]
  },
  {
   "cell_type": "code",
   "execution_count": null,
   "id": "d5cde316",
   "metadata": {},
   "outputs": [],
   "source": []
  }
 ],
 "metadata": {
  "kernelspec": {
   "display_name": "Python 3 (ipykernel)",
   "language": "python",
   "name": "python3"
  },
  "language_info": {
   "codemirror_mode": {
    "name": "ipython",
    "version": 3
   },
   "file_extension": ".py",
   "mimetype": "text/x-python",
   "name": "python",
   "nbconvert_exporter": "python",
   "pygments_lexer": "ipython3",
   "version": "3.10.9"
  }
 },
 "nbformat": 4,
 "nbformat_minor": 5
}
